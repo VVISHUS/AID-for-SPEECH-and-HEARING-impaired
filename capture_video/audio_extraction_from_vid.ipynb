{
 "cells": [
  {
   "cell_type": "code",
   "execution_count": 5,
   "metadata": {},
   "outputs": [
    {
     "name": "stdout",
     "output_type": "stream",
     "text": [
      "MoviePy - Writing audio in output_audio.wav\n"
     ]
    },
    {
     "name": "stderr",
     "output_type": "stream",
     "text": [
      "                                                                      "
     ]
    },
    {
     "name": "stdout",
     "output_type": "stream",
     "text": [
      "MoviePy - Done.\n"
     ]
    },
    {
     "name": "stderr",
     "output_type": "stream",
     "text": [
      "\r"
     ]
    }
   ],
   "source": [
    "from moviepy.editor import VideoFileClip\n",
    "\n",
    "# video to audio\n",
    "video = VideoFileClip(\"C:/Users/asus/Downloads/\")\n",
    "audio = video.audio\n",
    "audio.write_audiofile(\"output_audio.wav\")\n"
   ]
  },
  {
   "cell_type": "code",
   "execution_count": 15,
   "metadata": {},
   "outputs": [
    {
     "ename": "ValueError",
     "evalue": "MoviePy couldn't find the codec associated with the filename. Provide the 'codec' parameter in write_videofile.",
     "output_type": "error",
     "traceback": [
      "\u001b[1;31m---------------------------------------------------------------------------\u001b[0m",
      "\u001b[1;31mKeyError\u001b[0m                                  Traceback (most recent call last)",
      "File \u001b[1;32m~\\AppData\\Local\\Packages\\PythonSoftwareFoundation.Python.3.11_qbz5n2kfra8p0\\LocalCache\\local-packages\\Python311\\site-packages\\moviepy\\video\\VideoClip.py:262\u001b[0m, in \u001b[0;36mVideoClip.write_videofile\u001b[1;34m(self, filename, fps, codec, bitrate, audio, audio_fps, preset, audio_nbytes, audio_codec, audio_bitrate, audio_bufsize, temp_audiofile, rewrite_audio, remove_temp, write_logfile, verbose, threads, ffmpeg_params, logger)\u001b[0m\n\u001b[0;32m    261\u001b[0m \u001b[39mtry\u001b[39;00m:\n\u001b[1;32m--> 262\u001b[0m     codec \u001b[39m=\u001b[39m extensions_dict[ext][\u001b[39m'\u001b[39m\u001b[39mcodec\u001b[39m\u001b[39m'\u001b[39m][\u001b[39m0\u001b[39m]\n\u001b[0;32m    263\u001b[0m \u001b[39mexcept\u001b[39;00m \u001b[39mKeyError\u001b[39;00m:\n",
      "\u001b[1;31mKeyError\u001b[0m: ''",
      "\nDuring handling of the above exception, another exception occurred:\n",
      "\u001b[1;31mValueError\u001b[0m                                Traceback (most recent call last)",
      "\u001b[1;32mc:\\Users\\asus\\OneDrive\\Desktop\\VS\\PYTHON\\MINOR\\audio_extraction_from_vid.ipynb Cell 3\u001b[0m line \u001b[0;36m2\n\u001b[0;32m     <a href='vscode-notebook-cell:/c%3A/Users/asus/OneDrive/Desktop/VS/PYTHON/MINOR/audio_extraction_from_vid.ipynb#W1sZmlsZQ%3D%3D?line=18'>19</a>\u001b[0m video \u001b[39m=\u001b[39m video\u001b[39m.\u001b[39mset_audio(audio)\n\u001b[0;32m     <a href='vscode-notebook-cell:/c%3A/Users/asus/OneDrive/Desktop/VS/PYTHON/MINOR/audio_extraction_from_vid.ipynb#W1sZmlsZQ%3D%3D?line=21'>22</a>\u001b[0m \u001b[39m# Write the video file with the new audio\u001b[39;00m\n\u001b[1;32m---> <a href='vscode-notebook-cell:/c%3A/Users/asus/OneDrive/Desktop/VS/PYTHON/MINOR/audio_extraction_from_vid.ipynb#W1sZmlsZQ%3D%3D?line=22'>23</a>\u001b[0m video\u001b[39m.\u001b[39;49mwrite_videofile(output_path, codec\u001b[39m=\u001b[39;49m\u001b[39m'\u001b[39;49m\u001b[39mpcm_s16le\u001b[39;49m\u001b[39m'\u001b[39;49m, audio_codec\u001b[39m=\u001b[39;49m\u001b[39m'\u001b[39;49m\u001b[39maac\u001b[39;49m\u001b[39m'\u001b[39;49m)\n",
      "File \u001b[1;32m~\\AppData\\Local\\Packages\\PythonSoftwareFoundation.Python.3.11_qbz5n2kfra8p0\\LocalCache\\local-packages\\Python311\\site-packages\\decorator.py:232\u001b[0m, in \u001b[0;36mfun\u001b[1;34m(*args, **kw)\u001b[0m\n\u001b[0;32m    230\u001b[0m evaldict \u001b[39m=\u001b[39m \u001b[39mdict\u001b[39m(_call_\u001b[39m=\u001b[39mcaller, _func_\u001b[39m=\u001b[39mfunc)\n\u001b[0;32m    231\u001b[0m es \u001b[39m=\u001b[39m \u001b[39m'\u001b[39m\u001b[39m'\u001b[39m\n\u001b[1;32m--> 232\u001b[0m \u001b[39mfor\u001b[39;00m i, extra \u001b[39min\u001b[39;00m \u001b[39menumerate\u001b[39m(extras):\n\u001b[0;32m    233\u001b[0m     ex \u001b[39m=\u001b[39m \u001b[39m'\u001b[39m\u001b[39m_e\u001b[39m\u001b[39m%d\u001b[39;00m\u001b[39m_\u001b[39m\u001b[39m'\u001b[39m \u001b[39m%\u001b[39m i\n\u001b[0;32m    234\u001b[0m     evaldict[ex] \u001b[39m=\u001b[39m extra\n",
      "File \u001b[1;32m~\\AppData\\Local\\Packages\\PythonSoftwareFoundation.Python.3.11_qbz5n2kfra8p0\\LocalCache\\local-packages\\Python311\\site-packages\\moviepy\\decorators.py:54\u001b[0m, in \u001b[0;36mrequires_duration\u001b[1;34m(f, clip, *a, **k)\u001b[0m\n\u001b[0;32m     52\u001b[0m     \u001b[39mraise\u001b[39;00m \u001b[39mValueError\u001b[39;00m(\u001b[39m\"\u001b[39m\u001b[39mAttribute \u001b[39m\u001b[39m'\u001b[39m\u001b[39mduration\u001b[39m\u001b[39m'\u001b[39m\u001b[39m not set\u001b[39m\u001b[39m\"\u001b[39m)\n\u001b[0;32m     53\u001b[0m \u001b[39melse\u001b[39;00m:\n\u001b[1;32m---> 54\u001b[0m     \u001b[39mreturn\u001b[39;00m f(clip, \u001b[39m*\u001b[39;49ma, \u001b[39m*\u001b[39;49m\u001b[39m*\u001b[39;49mk)\n",
      "File \u001b[1;32m~\\AppData\\Local\\Packages\\PythonSoftwareFoundation.Python.3.11_qbz5n2kfra8p0\\LocalCache\\local-packages\\Python311\\site-packages\\decorator.py:232\u001b[0m, in \u001b[0;36mfun\u001b[1;34m(*args, **kw)\u001b[0m\n\u001b[0;32m    230\u001b[0m evaldict \u001b[39m=\u001b[39m \u001b[39mdict\u001b[39m(_call_\u001b[39m=\u001b[39mcaller, _func_\u001b[39m=\u001b[39mfunc)\n\u001b[0;32m    231\u001b[0m es \u001b[39m=\u001b[39m \u001b[39m'\u001b[39m\u001b[39m'\u001b[39m\n\u001b[1;32m--> 232\u001b[0m \u001b[39mfor\u001b[39;00m i, extra \u001b[39min\u001b[39;00m \u001b[39menumerate\u001b[39m(extras):\n\u001b[0;32m    233\u001b[0m     ex \u001b[39m=\u001b[39m \u001b[39m'\u001b[39m\u001b[39m_e\u001b[39m\u001b[39m%d\u001b[39;00m\u001b[39m_\u001b[39m\u001b[39m'\u001b[39m \u001b[39m%\u001b[39m i\n\u001b[0;32m    234\u001b[0m     evaldict[ex] \u001b[39m=\u001b[39m extra\n",
      "File \u001b[1;32m~\\AppData\\Local\\Packages\\PythonSoftwareFoundation.Python.3.11_qbz5n2kfra8p0\\LocalCache\\local-packages\\Python311\\site-packages\\moviepy\\decorators.py:135\u001b[0m, in \u001b[0;36muse_clip_fps_by_default\u001b[1;34m(f, clip, *a, **k)\u001b[0m\n\u001b[0;32m    130\u001b[0m new_a \u001b[39m=\u001b[39m [fun(arg) \u001b[39mif\u001b[39;00m (name\u001b[39m==\u001b[39m\u001b[39m'\u001b[39m\u001b[39mfps\u001b[39m\u001b[39m'\u001b[39m) \u001b[39melse\u001b[39;00m arg\n\u001b[0;32m    131\u001b[0m          \u001b[39mfor\u001b[39;00m (arg, name) \u001b[39min\u001b[39;00m \u001b[39mzip\u001b[39m(a, names)]\n\u001b[0;32m    132\u001b[0m new_kw \u001b[39m=\u001b[39m {k: fun(v) \u001b[39mif\u001b[39;00m k\u001b[39m==\u001b[39m\u001b[39m'\u001b[39m\u001b[39mfps\u001b[39m\u001b[39m'\u001b[39m \u001b[39melse\u001b[39;00m v\n\u001b[0;32m    133\u001b[0m          \u001b[39mfor\u001b[39;00m (k,v) \u001b[39min\u001b[39;00m k\u001b[39m.\u001b[39mitems()}\n\u001b[1;32m--> 135\u001b[0m \u001b[39mreturn\u001b[39;00m f(clip, \u001b[39m*\u001b[39;49mnew_a, \u001b[39m*\u001b[39;49m\u001b[39m*\u001b[39;49mnew_kw)\n",
      "File \u001b[1;32m~\\AppData\\Local\\Packages\\PythonSoftwareFoundation.Python.3.11_qbz5n2kfra8p0\\LocalCache\\local-packages\\Python311\\site-packages\\decorator.py:232\u001b[0m, in \u001b[0;36mfun\u001b[1;34m(*args, **kw)\u001b[0m\n\u001b[0;32m    230\u001b[0m evaldict \u001b[39m=\u001b[39m \u001b[39mdict\u001b[39m(_call_\u001b[39m=\u001b[39mcaller, _func_\u001b[39m=\u001b[39mfunc)\n\u001b[0;32m    231\u001b[0m es \u001b[39m=\u001b[39m \u001b[39m'\u001b[39m\u001b[39m'\u001b[39m\n\u001b[1;32m--> 232\u001b[0m \u001b[39mfor\u001b[39;00m i, extra \u001b[39min\u001b[39;00m \u001b[39menumerate\u001b[39m(extras):\n\u001b[0;32m    233\u001b[0m     ex \u001b[39m=\u001b[39m \u001b[39m'\u001b[39m\u001b[39m_e\u001b[39m\u001b[39m%d\u001b[39;00m\u001b[39m_\u001b[39m\u001b[39m'\u001b[39m \u001b[39m%\u001b[39m i\n\u001b[0;32m    234\u001b[0m     evaldict[ex] \u001b[39m=\u001b[39m extra\n",
      "File \u001b[1;32m~\\AppData\\Local\\Packages\\PythonSoftwareFoundation.Python.3.11_qbz5n2kfra8p0\\LocalCache\\local-packages\\Python311\\site-packages\\moviepy\\decorators.py:22\u001b[0m, in \u001b[0;36mconvert_masks_to_RGB\u001b[1;34m(f, clip, *a, **k)\u001b[0m\n\u001b[0;32m     20\u001b[0m \u001b[39mif\u001b[39;00m clip\u001b[39m.\u001b[39mismask:\n\u001b[0;32m     21\u001b[0m     clip \u001b[39m=\u001b[39m clip\u001b[39m.\u001b[39mto_RGB()\n\u001b[1;32m---> 22\u001b[0m \u001b[39mreturn\u001b[39;00m f(clip, \u001b[39m*\u001b[39;49ma, \u001b[39m*\u001b[39;49m\u001b[39m*\u001b[39;49mk)\n",
      "File \u001b[1;32m~\\AppData\\Local\\Packages\\PythonSoftwareFoundation.Python.3.11_qbz5n2kfra8p0\\LocalCache\\local-packages\\Python311\\site-packages\\moviepy\\video\\VideoClip.py:264\u001b[0m, in \u001b[0;36mVideoClip.write_videofile\u001b[1;34m(self, filename, fps, codec, bitrate, audio, audio_fps, preset, audio_nbytes, audio_codec, audio_bitrate, audio_bufsize, temp_audiofile, rewrite_audio, remove_temp, write_logfile, verbose, threads, ffmpeg_params, logger)\u001b[0m\n\u001b[0;32m    262\u001b[0m         codec \u001b[39m=\u001b[39m extensions_dict[ext][\u001b[39m'\u001b[39m\u001b[39mcodec\u001b[39m\u001b[39m'\u001b[39m][\u001b[39m0\u001b[39m]\n\u001b[0;32m    263\u001b[0m     \u001b[39mexcept\u001b[39;00m \u001b[39mKeyError\u001b[39;00m:\n\u001b[1;32m--> 264\u001b[0m         \u001b[39mraise\u001b[39;00m \u001b[39mValueError\u001b[39;00m(\u001b[39m\"\u001b[39m\u001b[39mMoviePy couldn\u001b[39m\u001b[39m'\u001b[39m\u001b[39mt find the codec associated \u001b[39m\u001b[39m\"\u001b[39m\n\u001b[0;32m    265\u001b[0m                          \u001b[39m\"\u001b[39m\u001b[39mwith the filename. Provide the \u001b[39m\u001b[39m'\u001b[39m\u001b[39mcodec\u001b[39m\u001b[39m'\u001b[39m\u001b[39m \u001b[39m\u001b[39m\"\u001b[39m\n\u001b[0;32m    266\u001b[0m                          \u001b[39m\"\u001b[39m\u001b[39mparameter in write_videofile.\u001b[39m\u001b[39m\"\u001b[39m)\n\u001b[0;32m    268\u001b[0m \u001b[39mif\u001b[39;00m audio_codec \u001b[39mis\u001b[39;00m \u001b[39mNone\u001b[39;00m:\n\u001b[0;32m    269\u001b[0m     \u001b[39mif\u001b[39;00m ext \u001b[39min\u001b[39;00m [\u001b[39m'\u001b[39m\u001b[39mogv\u001b[39m\u001b[39m'\u001b[39m, \u001b[39m'\u001b[39m\u001b[39mwebm\u001b[39m\u001b[39m'\u001b[39m]:\n",
      "\u001b[1;31mValueError\u001b[0m: MoviePy couldn't find the codec associated with the filename. Provide the 'codec' parameter in write_videofile."
     ]
    }
   ],
   "source": [
    "#integrating audio file to video file\n",
    "from moviepy.editor import *\n",
    "\n",
    "video_path = \"C:/Users/asus/Downloads/videoplayback.webm\"\n",
    "audio_path = \"C:/Users/asus/OneDrive/Desktop/VS/PYTHON/MINOR/output_audio.wav\"\n",
    "\n",
    "output_path = \"C:/Users/asus/Downloads/\"\n",
    "\n",
    "# Load the video\n",
    "video = VideoFileClip(video_path)\n",
    "\n",
    "# Load the audio\n",
    "audio = AudioFileClip(audio_path)\n",
    "\n",
    "# Set the audio to match the video duration\n",
    "audio = audio.set_duration(video.duration)\n",
    "\n",
    "# Set the audio of the video\n",
    "video = video.set_audio(audio)\n",
    "\n",
    "\n",
    "# Write the video file with the new audio\n",
    "video.write_videofile(output_path, codec='libvpx', audio_codec='aac')\n",
    "\n"
   ]
  }
 ],
 "metadata": {
  "kernelspec": {
   "display_name": "Python 3",
   "language": "python",
   "name": "python3"
  },
  "language_info": {
   "codemirror_mode": {
    "name": "ipython",
    "version": 3
   },
   "file_extension": ".py",
   "mimetype": "text/x-python",
   "name": "python",
   "nbconvert_exporter": "python",
   "pygments_lexer": "ipython3",
   "version": "3.11.6"
  }
 },
 "nbformat": 4,
 "nbformat_minor": 2
}
